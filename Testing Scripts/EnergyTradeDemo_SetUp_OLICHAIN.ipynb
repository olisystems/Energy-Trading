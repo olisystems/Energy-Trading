{
 "cells": [
  {
   "cell_type": "code",
   "execution_count": 47,
   "metadata": {},
   "outputs": [],
   "source": [
    "# coding: utf-8\n",
    "\n",
    "import json\n",
    "import web3\n",
    "import math\n",
    "import random\n",
    "import time\n",
    "\n",
    "from web3 import Web3, IPCProvider, HTTPProvider"
   ]
  },
  {
   "cell_type": "markdown",
   "metadata": {},
   "source": [
    "Next step: Connect to Client, create 20 Accounts, define a coinbase (=default account)"
   ]
  },
  {
   "cell_type": "code",
   "execution_count": 48,
   "metadata": {},
   "outputs": [],
   "source": [
    "web3 = Web3(HTTPProvider(\"http://127.0.0.1:8545\", request_kwargs={'timeout': 600}))"
   ]
  },
  {
   "cell_type": "code",
   "execution_count": null,
   "metadata": {},
   "outputs": [],
   "source": [
    "### execute Only on a fresh Blockchain! Change the Passwords!\n",
    "for i in range(1,30):\n",
    "    web3.personal.newAccount('olirocks')"
   ]
  },
  {
   "cell_type": "code",
   "execution_count": 49,
   "metadata": {},
   "outputs": [],
   "source": [
    "coinbase = web3.eth.coinbase\n",
    "web3.eth.defaultBlock = \"latest\"\n",
    "transaction = {'from': coinbase}"
   ]
  },
  {
   "cell_type": "markdown",
   "metadata": {},
   "source": [
    "Replace The Contract Adresses below to the actual addresses of the contracts on your particular chain! In order to get the contract addresses deploy either with TRUFFLE or REMIX!"
   ]
  },
  {
   "cell_type": "code",
   "execution_count": 7,
   "metadata": {},
   "outputs": [],
   "source": [
    "# define the adress, ABI (with parsing from str to JSON) and define the contract object\n",
    "Oliorigin_address = web3.toChecksumAddress('0x081d642897685eb6928fae7235f099a3720d3eb5')\n",
    "Oliorigin_abi_str  = '[{\"constant\":true,\"inputs\":[{\"name\":\"_account\",\"type\":\"address\"}],\"name\":\"get_oliType\",\"outputs\":[{\"name\":\"\",\"type\":\"uint8\"}],\"payable\":false,\"stateMutability\":\"view\",\"type\":\"function\"},{\"constant\":true,\"inputs\":[{\"name\":\"_account\",\"type\":\"address\"}],\"name\":\"get_oliCkt\",\"outputs\":[{\"name\":\"\",\"type\":\"uint8\"}],\"payable\":false,\"stateMutability\":\"view\",\"type\":\"function\"},{\"constant\":false,\"inputs\":[],\"name\":\"kill\",\"outputs\":[],\"payable\":false,\"stateMutability\":\"nonpayable\",\"type\":\"function\"},{\"constant\":true,\"inputs\":[{\"name\":\"_account\",\"type\":\"address\"}],\"name\":\"get_oliTrafoid\",\"outputs\":[{\"name\":\"\",\"type\":\"uint32\"}],\"payable\":false,\"stateMutability\":\"view\",\"type\":\"function\"},{\"constant\":true,\"inputs\":[{\"name\":\"_tid\",\"type\":\"uint32\"}],\"name\":\"get_gsoAddr\",\"outputs\":[{\"name\":\"\",\"type\":\"address\"}],\"payable\":false,\"stateMutability\":\"view\",\"type\":\"function\"},{\"constant\":true,\"inputs\":[{\"name\":\"_account\",\"type\":\"address\"},{\"name\":\"_index\",\"type\":\"uint8\"}],\"name\":\"get_oliPeakLoad\",\"outputs\":[{\"name\":\"\",\"type\":\"uint16\"}],\"payable\":false,\"stateMutability\":\"view\",\"type\":\"function\"},{\"constant\":false,\"inputs\":[{\"name\":\"oli\",\"type\":\"address\"},{\"name\":\"lat\",\"type\":\"uint32\"},{\"name\":\"long\",\"type\":\"uint32\"},{\"name\":\"trafo\",\"type\":\"uint32\"},{\"name\":\"ckt\",\"type\":\"uint8\"},{\"name\":\"typex\",\"type\":\"uint8\"},{\"name\":\"pload\",\"type\":\"uint16[]\"}],\"name\":\"addOli\",\"outputs\":[],\"payable\":false,\"stateMutability\":\"nonpayable\",\"type\":\"function\"},{\"anonymous\":false,\"inputs\":[{\"indexed\":false,\"name\":\"paymentAddress\",\"type\":\"address\"},{\"indexed\":false,\"name\":\"latOfLocation\",\"type\":\"uint32\"},{\"indexed\":false,\"name\":\"longOfLocation\",\"type\":\"uint32\"}],\"name\":\"newAddedOli\",\"type\":\"event\"}]'\n",
    "Oliorigin_abi      = json.loads(Oliorigin_abi_str)\n",
    "Oliorigin_contract = web3.eth.contract(abi=Oliorigin_abi,address=Oliorigin_address)"
   ]
  },
  {
   "cell_type": "code",
   "execution_count": 8,
   "metadata": {},
   "outputs": [],
   "source": [
    "# define the adress, ABI (with parsing from str to JSON) and define the contract object\n",
    "Olicoin_address = web3.toChecksumAddress('0xeaa0746ca00c7c71941c1916d3691695ebf71f1a')\n",
    "Olicoin_abi_str  = '[{\"constant\":false,\"inputs\":[],\"name\":\"kill\",\"outputs\":[],\"payable\":false,\"stateMutability\":\"nonpayable\",\"type\":\"function\"},{\"constant\":true,\"inputs\":[{\"name\":\"caddress\",\"type\":\"address\"}],\"name\":\"get_coinBalance\",\"outputs\":[{\"name\":\"\",\"type\":\"int32\"}],\"payable\":false,\"stateMutability\":\"view\",\"type\":\"function\"},{\"constant\":false,\"inputs\":[{\"name\":\"_contract\",\"type\":\"address\"},{\"name\":\"_tf\",\"type\":\"bool\"}],\"name\":\"set_ContractAddress\",\"outputs\":[],\"payable\":false,\"stateMutability\":\"nonpayable\",\"type\":\"function\"},{\"constant\":false,\"inputs\":[{\"name\":\"_account\",\"type\":\"address\"},{\"name\":\"_change\",\"type\":\"int32\"}],\"name\":\"set_OliCoinBalance\",\"outputs\":[],\"payable\":false,\"stateMutability\":\"nonpayable\",\"type\":\"function\"},{\"constant\":false,\"inputs\":[{\"name\":\"_to\",\"type\":\"address\"},{\"name\":\"_amount\",\"type\":\"uint16\"}],\"name\":\"transfer\",\"outputs\":[{\"name\":\"success\",\"type\":\"bool\"}],\"payable\":false,\"stateMutability\":\"nonpayable\",\"type\":\"function\"},{\"anonymous\":false,\"inputs\":[{\"indexed\":true,\"name\":\"_from\",\"type\":\"address\"},{\"indexed\":true,\"name\":\"_to\",\"type\":\"address\"},{\"indexed\":false,\"name\":\"_value\",\"type\":\"uint16\"}],\"name\":\"Transfer\",\"type\":\"event\"}]'\n",
    "Olicoin_abi      = json.loads(Olicoin_abi_str)\n",
    "Olicoin_contract = web3.eth.contract(abi=Olicoin_abi,address=Olicoin_address)"
   ]
  },
  {
   "cell_type": "code",
   "execution_count": 9,
   "metadata": {},
   "outputs": [],
   "source": [
    "# define the adress, ABI (with parsing from str to JSON) and define the contract object\n",
    "Olibilateral_address = web3.toChecksumAddress('0x762efd85e9b5a6ed984a48d42cf7881dff127575')\n",
    "Olibilateral_abi_str  = '[{\"constant\":false,\"inputs\":[{\"name\":\"addr\",\"type\":\"address\"}],\"name\":\"setOliOrigin\",\"outputs\":[],\"payable\":false,\"stateMutability\":\"nonpayable\",\"type\":\"function\"},{\"constant\":false,\"inputs\":[{\"name\":\"_stock\",\"type\":\"address\"},{\"name\":\"_rate\",\"type\":\"uint8\"}],\"name\":\"stockBidding\",\"outputs\":[],\"payable\":false,\"stateMutability\":\"nonpayable\",\"type\":\"function\"},{\"constant\":true,\"inputs\":[{\"name\":\"_stock\",\"type\":\"address\"}],\"name\":\"get_stockAmount\",\"outputs\":[{\"name\":\"\",\"type\":\"uint16\"}],\"payable\":false,\"stateMutability\":\"view\",\"type\":\"function\"},{\"constant\":false,\"inputs\":[],\"name\":\"kill\",\"outputs\":[],\"payable\":false,\"stateMutability\":\"nonpayable\",\"type\":\"function\"},{\"constant\":false,\"inputs\":[{\"name\":\"_amount\",\"type\":\"uint16\"},{\"name\":\"_rate\",\"type\":\"uint8\"},{\"name\":\"_period\",\"type\":\"uint32\"},{\"name\":\"_btime\",\"type\":\"uint32\"}],\"name\":\"regStock\",\"outputs\":[],\"payable\":false,\"stateMutability\":\"nonpayable\",\"type\":\"function\"},{\"constant\":true,\"inputs\":[{\"name\":\"_stock\",\"type\":\"address\"}],\"name\":\"get_stockBidder\",\"outputs\":[{\"name\":\"\",\"type\":\"address\"}],\"payable\":false,\"stateMutability\":\"view\",\"type\":\"function\"},{\"constant\":true,\"inputs\":[{\"name\":\"_stock\",\"type\":\"address\"}],\"name\":\"get_stockRate\",\"outputs\":[{\"name\":\"\",\"type\":\"uint8\"}],\"payable\":false,\"stateMutability\":\"view\",\"type\":\"function\"},{\"anonymous\":false,\"inputs\":[{\"indexed\":false,\"name\":\"saccount\",\"type\":\"address\"},{\"indexed\":false,\"name\":\"samount\",\"type\":\"uint16\"},{\"indexed\":false,\"name\":\"smrate\",\"type\":\"uint8\"},{\"indexed\":false,\"name\":\"speriod\",\"type\":\"uint32\"},{\"indexed\":false,\"name\":\"sbiddingTime\",\"type\":\"uint32\"}],\"name\":\"NewStock\",\"type\":\"event\"},{\"anonymous\":false,\"inputs\":[{\"indexed\":false,\"name\":\"baccount\",\"type\":\"address\"},{\"indexed\":false,\"name\":\"bmrate\",\"type\":\"uint8\"}],\"name\":\"NewStockBid\",\"type\":\"event\"}]'\n",
    "Olibilateral_abi      = json.loads(Olibilateral_abi_str)\n",
    "Olibilateral_contract = web3.eth.contract(abi=Olibilateral_abi,address=Olibilateral_address)"
   ]
  },
  {
   "cell_type": "code",
   "execution_count": 10,
   "metadata": {},
   "outputs": [],
   "source": [
    "# define the adress, ABI (with parsing from str to JSON) and define the contract object\n",
    "Olidaughter_address = web3.toChecksumAddress('0x022935e39d595a35c47a3eeb24ef02e8335fd1c9')\n",
    "Olidaughter_abi_str  = '[{\"constant\":false,\"inputs\":[{\"name\":\"addr\",\"type\":\"address\"}],\"name\":\"setOliOrigin\",\"outputs\":[],\"payable\":false,\"stateMutability\":\"nonpayable\",\"type\":\"function\"},{\"constant\":false,\"inputs\":[{\"name\":\"_amount\",\"type\":\"uint16\"},{\"name\":\"_rate\",\"type\":\"uint8\"}],\"name\":\"bid\",\"outputs\":[],\"payable\":false,\"stateMutability\":\"nonpayable\",\"type\":\"function\"},{\"constant\":false,\"inputs\":[{\"name\":\"addr\",\"type\":\"address\"}],\"name\":\"setBilateralTrading\",\"outputs\":[],\"payable\":false,\"stateMutability\":\"nonpayable\",\"type\":\"function\"},{\"constant\":false,\"inputs\":[{\"name\":\"addr\",\"type\":\"address\"}],\"name\":\"setOliCoin\",\"outputs\":[],\"payable\":false,\"stateMutability\":\"nonpayable\",\"type\":\"function\"},{\"constant\":false,\"inputs\":[{\"name\":\"addr\",\"type\":\"address\"}],\"name\":\"setDynamicGridFee\",\"outputs\":[],\"payable\":false,\"stateMutability\":\"nonpayable\",\"type\":\"function\"},{\"constant\":false,\"inputs\":[],\"name\":\"kill\",\"outputs\":[],\"payable\":false,\"stateMutability\":\"nonpayable\",\"type\":\"function\"},{\"constant\":false,\"inputs\":[],\"name\":\"resett\",\"outputs\":[],\"payable\":false,\"stateMutability\":\"nonpayable\",\"type\":\"function\"},{\"constant\":true,\"inputs\":[],\"name\":\"get_producer\",\"outputs\":[{\"name\":\"\",\"type\":\"address[]\"}],\"payable\":false,\"stateMutability\":\"view\",\"type\":\"function\"},{\"constant\":true,\"inputs\":[{\"name\":\"_rate\",\"type\":\"uint8\"}],\"name\":\"get_sRate\",\"outputs\":[{\"name\":\"\",\"type\":\"uint16\"}],\"payable\":false,\"stateMutability\":\"view\",\"type\":\"function\"},{\"constant\":true,\"inputs\":[],\"name\":\"get_consumer\",\"outputs\":[{\"name\":\"\",\"type\":\"address[]\"}],\"payable\":false,\"stateMutability\":\"view\",\"type\":\"function\"},{\"constant\":true,\"inputs\":[{\"name\":\"_rate\",\"type\":\"uint8\"}],\"name\":\"get_dRate\",\"outputs\":[{\"name\":\"\",\"type\":\"uint16\"}],\"payable\":false,\"stateMutability\":\"view\",\"type\":\"function\"},{\"constant\":true,\"inputs\":[],\"name\":\"maxRate\",\"outputs\":[{\"name\":\"\",\"type\":\"uint8\"}],\"payable\":false,\"stateMutability\":\"view\",\"type\":\"function\"},{\"constant\":false,\"inputs\":[],\"name\":\"breakEven\",\"outputs\":[],\"payable\":false,\"stateMutability\":\"nonpayable\",\"type\":\"function\"},{\"inputs\":[],\"payable\":false,\"stateMutability\":\"nonpayable\",\"type\":\"constructor\"},{\"anonymous\":false,\"inputs\":[{\"indexed\":true,\"name\":\"gaddr\",\"type\":\"address\"},{\"indexed\":false,\"name\":\"grate\",\"type\":\"uint8\"},{\"indexed\":false,\"name\":\"gamount\",\"type\":\"uint16\"}],\"name\":\"NewGenBid\",\"type\":\"event\"},{\"anonymous\":false,\"inputs\":[{\"indexed\":true,\"name\":\"caddr\",\"type\":\"address\"},{\"indexed\":false,\"name\":\"crate\",\"type\":\"uint8\"},{\"indexed\":false,\"name\":\"camount\",\"type\":\"uint16\"}],\"name\":\"NewConBid\",\"type\":\"event\"},{\"anonymous\":false,\"inputs\":[{\"indexed\":false,\"name\":\"cbid\",\"type\":\"uint8\"}],\"name\":\"NewMcp\",\"type\":\"event\"}]'\n",
    "Olidaughter_abi      = json.loads(Olidaughter_abi_str)\n",
    "Olidaughter_contract = web3.eth.contract(abi=Olidaughter_abi,address=Olidaughter_address)"
   ]
  },
  {
   "cell_type": "code",
   "execution_count": 11,
   "metadata": {},
   "outputs": [],
   "source": [
    "# define the adress, ABI (with parsing from str to JSON) and define the contract object\n",
    "DynamicGridFee_address = web3.toChecksumAddress('0x498787e2b703067fb0f72cd3682830a511d5577e')\n",
    "DynamicGridFee_abi_str  = '[{\"constant\":true,\"inputs\":[{\"name\":\"_tid\",\"type\":\"uint32\"},{\"name\":\"_index\",\"type\":\"uint8\"}],\"name\":\"get_gridFee\",\"outputs\":[{\"name\":\"\",\"type\":\"uint8\"}],\"payable\":false,\"stateMutability\":\"view\",\"type\":\"function\"},{\"constant\":false,\"inputs\":[{\"name\":\"_addr\",\"type\":\"address\"},{\"name\":\"_amount\",\"type\":\"uint16\"}],\"name\":\"set_trafocamount\",\"outputs\":[],\"payable\":false,\"stateMutability\":\"nonpayable\",\"type\":\"function\"},{\"constant\":false,\"inputs\":[{\"name\":\"addr\",\"type\":\"address\"}],\"name\":\"setOliOrigin\",\"outputs\":[],\"payable\":false,\"stateMutability\":\"nonpayable\",\"type\":\"function\"},{\"constant\":false,\"inputs\":[{\"name\":\"_addr\",\"type\":\"address\"},{\"name\":\"_amount\",\"type\":\"uint16\"}],\"name\":\"set_cktcamount\",\"outputs\":[],\"payable\":false,\"stateMutability\":\"nonpayable\",\"type\":\"function\"},{\"constant\":false,\"inputs\":[],\"name\":\"kill\",\"outputs\":[],\"payable\":false,\"stateMutability\":\"nonpayable\",\"type\":\"function\"},{\"constant\":false,\"inputs\":[{\"name\":\"_tid\",\"type\":\"uint32\"}],\"name\":\"set_tgridFee\",\"outputs\":[],\"payable\":false,\"stateMutability\":\"nonpayable\",\"type\":\"function\"},{\"constant\":true,\"inputs\":[{\"name\":\"_tid\",\"type\":\"uint32\"},{\"name\":\"_index\",\"type\":\"uint8\"}],\"name\":\"get_cktAmount\",\"outputs\":[{\"name\":\"\",\"type\":\"int16\"}],\"payable\":false,\"stateMutability\":\"view\",\"type\":\"function\"},{\"constant\":true,\"inputs\":[{\"name\":\"_addr\",\"type\":\"address\"}],\"name\":\"get_tGFee\",\"outputs\":[{\"name\":\"\",\"type\":\"uint8\"}],\"payable\":false,\"stateMutability\":\"view\",\"type\":\"function\"},{\"constant\":false,\"inputs\":[{\"name\":\"_address\",\"type\":\"address\"},{\"name\":\"_fee\",\"type\":\"uint8[]\"}],\"name\":\"set_minmaxgfee\",\"outputs\":[],\"payable\":false,\"stateMutability\":\"nonpayable\",\"type\":\"function\"},{\"constant\":false,\"inputs\":[{\"name\":\"_addr\",\"type\":\"address\"},{\"name\":\"_amount\",\"type\":\"uint16\"}],\"name\":\"set_traforamount\",\"outputs\":[],\"payable\":false,\"stateMutability\":\"nonpayable\",\"type\":\"function\"},{\"constant\":true,\"inputs\":[{\"name\":\"_addr\",\"type\":\"address\"}],\"name\":\"get_dGFee\",\"outputs\":[{\"name\":\"\",\"type\":\"uint8\"}],\"payable\":false,\"stateMutability\":\"view\",\"type\":\"function\"},{\"constant\":false,\"inputs\":[{\"name\":\"_tid\",\"type\":\"uint32\"}],\"name\":\"set_dgridFee\",\"outputs\":[],\"payable\":false,\"stateMutability\":\"nonpayable\",\"type\":\"function\"},{\"constant\":false,\"inputs\":[{\"name\":\"_addr\",\"type\":\"address\"},{\"name\":\"_amount\",\"type\":\"uint64\"}],\"name\":\"set_cktramount\",\"outputs\":[],\"payable\":false,\"stateMutability\":\"nonpayable\",\"type\":\"function\"},{\"constant\":true,\"inputs\":[{\"name\":\"_addr\",\"type\":\"address\"}],\"name\":\"get_trafoAmount\",\"outputs\":[{\"name\":\"\",\"type\":\"int16\"}],\"payable\":false,\"stateMutability\":\"view\",\"type\":\"function\"}]'\n",
    "DynamicGridFee_abi      = json.loads(DynamicGridFee_abi_str)\n",
    "DynamicGridFee_contract = web3.eth.contract(abi=DynamicGridFee_abi,address=DynamicGridFee_address)"
   ]
  },
  {
   "cell_type": "code",
   "execution_count": 12,
   "metadata": {},
   "outputs": [],
   "source": [
    "account_0=web3.eth.accounts[0]\n",
    "account_1=web3.eth.accounts[1]\n",
    "account_2=web3.eth.accounts[2]\n",
    "account_3=web3.eth.accounts[3]\n",
    "account_4=web3.eth.accounts[4]\n",
    "account_5=web3.eth.accounts[5]\n",
    "account_6=web3.eth.accounts[6]\n",
    "account_7=web3.eth.accounts[7]\n",
    "account_8=web3.eth.accounts[8]\n",
    "account_9=web3.eth.accounts[9]\n",
    "account_10=web3.eth.accounts[10]\n",
    "account_11=web3.eth.accounts[11]\n",
    "account_12=web3.eth.accounts[12]\n",
    "account_13=web3.eth.accounts[13]\n",
    "account_14=web3.eth.accounts[14]\n",
    "account_15=web3.eth.accounts[15]\n",
    "account_16=web3.eth.accounts[16]\n",
    "account_17=web3.eth.accounts[17]\n",
    "account_18=web3.eth.accounts[18]\n",
    "account_19=web3.eth.accounts[19]\n",
    "account_20=web3.eth.accounts[20]\n",
    "account_21=web3.eth.accounts[21]\n",
    "account_22=web3.eth.accounts[22]"
   ]
  },
  {
   "cell_type": "markdown",
   "metadata": {},
   "source": [
    "ONLY ON A FRESH DEPLOYMENT\n",
    "\n",
    "Register OLIs with some of the addresses above at OLI Origin\n",
    "Register Transformers at OLI Origin"
   ]
  },
  {
   "cell_type": "code",
   "execution_count": 13,
   "metadata": {
    "scrolled": true
   },
   "outputs": [
    {
     "data": {
      "text/plain": [
       "HexBytes('0x67c9fafa8c98c1a60153ac7b84a23892a07485e74cc6a76f8e19e8be204e4802')"
      ]
     },
     "execution_count": 13,
     "metadata": {},
     "output_type": "execute_result"
    }
   ],
   "source": [
    "#Register OLIs\n",
    "\n",
    "web3.personal.unlockAccount(coinbase, 'G7fht1A')\n",
    "#Oliorigin_contract.transact({'from': coinbase}).addOli(account_1, int(49.30e4), int(8.35e4), 67376, 0, 0, [6000])\n",
    "web3.personal.unlockAccount(coinbase, 'G7fht1A')\n",
    "Oliorigin_contract.transact({'from': coinbase}).addOli(account_2, int(48.39e4), int(9.97e4), 67376, 1, 3, [5500])\n",
    "web3.personal.unlockAccount(coinbase, 'G7fht1A')\n",
    "Oliorigin_contract.transact({'from': coinbase}).addOli(account_3, int(48.77e4), int(9.16e4), 67376, 0, 5, [4000])\n",
    "web3.personal.unlockAccount(coinbase, 'G7fht1A')\n",
    "Oliorigin_contract.transact({'from': coinbase}).addOli(account_4, int(49.40e4), int(8.67e4), 67376, 1, 0, [10000])\n",
    "web3.personal.unlockAccount(coinbase, 'G7fht1A')\n",
    "Oliorigin_contract.transact({'from': coinbase}).addOli(account_5, int(48.89e4), int(9.20e4), 67376, 0, 5, [7800])\n",
    "\n",
    "web3.personal.unlockAccount(coinbase, 'G7fht1A')\n",
    "Oliorigin_contract.transact({'from': coinbase}).addOli(account_6, int(48.62e4), int(9.83e4), 67376, 0, 6, [4600])\n",
    "web3.personal.unlockAccount(coinbase, 'G7fht1A')\n",
    "Oliorigin_contract.transact({'from': coinbase}).addOli(account_7, int(48.00e4), int(7.84e4), 67376, 1, 6, [7600])\n",
    "web3.personal.unlockAccount(coinbase, 'G7fht1A')\n",
    "Oliorigin_contract.transact({'from': coinbase}).addOli(account_8, int(49.49e4), int(8.47e4), 67376, 0, 7, [3800])\n",
    "web3.personal.unlockAccount(coinbase, 'G7fht1A')\n",
    "Oliorigin_contract.transact({'from': coinbase}).addOli(account_9, int(49.32e4), int(8.44e4), 67376, 1, 7, [5400])\n",
    "web3.personal.unlockAccount(coinbase, 'G7fht1A')\n",
    "Oliorigin_contract.transact({'from': coinbase}).addOli(account_10, int(48.41e4), int(10.00e4), 67376, 0, 7, [7800])\n",
    "\n",
    "web3.personal.unlockAccount(coinbase, 'G7fht1A')\n",
    "Oliorigin_contract.transact({'from': coinbase}).addOli(account_11, int(48.69e4), int(9.21e4), 67377, 0, 0, [9000])\n",
    "web3.personal.unlockAccount(coinbase, 'G7fht1A')\n",
    "Oliorigin_contract.transact({'from': coinbase}).addOli(account_12, int(49.47e4), int(8.47e4), 67377, 1, 3, [4500])\n",
    "web3.personal.unlockAccount(coinbase, 'G7fht1A')\n",
    "Oliorigin_contract.transact({'from': coinbase}).addOli(account_13, int(48.42e4), int(10.07e4), 67377, 0, 5, [3600])\n",
    "web3.personal.unlockAccount(coinbase, 'G7fht1A')\n",
    "Oliorigin_contract.transact({'from': coinbase}).addOli(account_14, int(48.80e4), int(9.22e4), 67377, 1, 0, [6000])\n",
    "web3.personal.unlockAccount(coinbase, 'G7fht1A')\n",
    "Oliorigin_contract.transact({'from': coinbase}).addOli(account_15, int(48.87e4), int(9.22e4), 67377, 0, 5, [4900])\n",
    "\n",
    "web3.personal.unlockAccount(coinbase, 'G7fht1A')\n",
    "Oliorigin_contract.transact({'from': coinbase}).addOli(account_16, int(48.87e4), int(9.19e4), 67377, 0, 6, [6600])\n",
    "web3.personal.unlockAccount(coinbase, 'G7fht1A')\n",
    "Oliorigin_contract.transact({'from': coinbase}).addOli(account_17, int(48.81e4), int(9.18e4), 67377, 1, 6, [8000])\n",
    "web3.personal.unlockAccount(coinbase, 'G7fht1A')\n",
    "Oliorigin_contract.transact({'from': coinbase}).addOli(account_18, int(48.40e4), int(9.96e4), 67377, 0, 7, [12000])\n",
    "web3.personal.unlockAccount(coinbase, 'G7fht1A')\n",
    "Oliorigin_contract.transact({'from': coinbase}).addOli(account_19, int(48.50e4), int(10.06e4), 67377, 1, 7, [4000])\n",
    "web3.personal.unlockAccount(coinbase, 'G7fht1A')\n",
    "Oliorigin_contract.transact({'from': coinbase}).addOli(account_20, int(48.60e4), int(10.16e4), 67377, 0, 7, [7500])\n"
   ]
  },
  {
   "cell_type": "code",
   "execution_count": 14,
   "metadata": {},
   "outputs": [
    {
     "data": {
      "text/plain": [
       "HexBytes('0x8e4477c361406f1cc8aa17a31aeeb82d976f278787bcae8dce806011ef105e7e')"
      ]
     },
     "execution_count": 14,
     "metadata": {},
     "output_type": "execute_result"
    }
   ],
   "source": [
    "#Register Trafos\n",
    "\n",
    "web3.personal.unlockAccount(coinbase, 'G7fht1A')\n",
    "Oliorigin_contract.transact({'from': coinbase}).addOli(account_21, int(49.30e4), int(8.35e4), 67376, 2, 8, [1000, 750, 750])\n",
    "web3.personal.unlockAccount(coinbase, 'G7fht1A')\n",
    "Oliorigin_contract.transact({'from': coinbase}).addOli(account_22, int(48.69e4), int(9.21e4), 67377, 2, 8, [1000, 750, 750])\n"
   ]
  },
  {
   "cell_type": "code",
   "execution_count": 15,
   "metadata": {},
   "outputs": [
    {
     "data": {
      "text/plain": [
       "HexBytes('0xe5455c4bbaf1c6caf8936fa30063ef79cb42e6b7290a43d7268896851f2470d6')"
      ]
     },
     "execution_count": 15,
     "metadata": {},
     "output_type": "execute_result"
    }
   ],
   "source": [
    "#Register Contract address for coin update\n",
    "web3.personal.unlockAccount(coinbase, 'G7fht1A')\n",
    "Olicoin_contract.transact({'from': coinbase}).set_ContractAddress(Olidaughter_address,True)\n"
   ]
  },
  {
   "cell_type": "code",
   "execution_count": 16,
   "metadata": {},
   "outputs": [
    {
     "data": {
      "text/plain": [
       "HexBytes('0x65e1014b74a1cce09f9de49b18a72b5cdf738b8f1e0fab114f0daeb6f192e045')"
      ]
     },
     "execution_count": 16,
     "metadata": {},
     "output_type": "execute_result"
    }
   ],
   "source": [
    "#########BILATERAL TRADE#########\n",
    "#set oli origin Address\n",
    "web3.personal.unlockAccount(coinbase, 'G7fht1A')\n",
    "Olibilateral_contract.transact({'from': coinbase}).setOliOrigin(Oliorigin_address)\n"
   ]
  },
  {
   "cell_type": "code",
   "execution_count": 18,
   "metadata": {},
   "outputs": [
    {
     "ename": "ValueError",
     "evalue": "{'code': -32015, 'message': 'Transaction execution error.', 'data': 'Internal(\"Requires higher than upper limit of 52079720\")'}",
     "output_type": "error",
     "traceback": [
      "\u001b[1;31m---------------------------------------------------------------------------\u001b[0m",
      "\u001b[1;31mValueError\u001b[0m                                Traceback (most recent call last)",
      "\u001b[1;32m<ipython-input-18-bb905b2bfe6d>\u001b[0m in \u001b[0;36m<module>\u001b[1;34m()\u001b[0m\n\u001b[0;32m     17\u001b[0m \u001b[1;31m#set BilateralTrade address\u001b[0m\u001b[1;33m\u001b[0m\u001b[1;33m\u001b[0m\u001b[0m\n\u001b[0;32m     18\u001b[0m \u001b[0mweb3\u001b[0m\u001b[1;33m.\u001b[0m\u001b[0mpersonal\u001b[0m\u001b[1;33m.\u001b[0m\u001b[0munlockAccount\u001b[0m\u001b[1;33m(\u001b[0m\u001b[0mcoinbase\u001b[0m\u001b[1;33m,\u001b[0m \u001b[1;34m'G7fht1A'\u001b[0m\u001b[1;33m)\u001b[0m\u001b[1;33m\u001b[0m\u001b[0m\n\u001b[1;32m---> 19\u001b[1;33m \u001b[0mOlidaughter_contract\u001b[0m\u001b[1;33m.\u001b[0m\u001b[0mtransact\u001b[0m\u001b[1;33m(\u001b[0m\u001b[1;33m{\u001b[0m\u001b[1;34m'from'\u001b[0m\u001b[1;33m:\u001b[0m \u001b[0mcoinbase\u001b[0m\u001b[1;33m}\u001b[0m\u001b[1;33m)\u001b[0m\u001b[1;33m.\u001b[0m\u001b[0msetBilateralTrading\u001b[0m\u001b[1;33m(\u001b[0m\u001b[0mOlibilateral_address\u001b[0m\u001b[1;33m)\u001b[0m\u001b[1;33m\u001b[0m\u001b[0m\n\u001b[0m",
      "\u001b[1;32mC:\\ProgramData\\Anaconda3\\lib\\site-packages\\web3\\contract.py\u001b[0m in \u001b[0;36mtransact_with_contract_function\u001b[1;34m(abi, address, web3, function_name, transaction, *args, **kwargs)\u001b[0m\n\u001b[0;32m   1339\u001b[0m     )\n\u001b[0;32m   1340\u001b[0m \u001b[1;33m\u001b[0m\u001b[0m\n\u001b[1;32m-> 1341\u001b[1;33m     \u001b[0mtxn_hash\u001b[0m \u001b[1;33m=\u001b[0m \u001b[0mweb3\u001b[0m\u001b[1;33m.\u001b[0m\u001b[0meth\u001b[0m\u001b[1;33m.\u001b[0m\u001b[0msendTransaction\u001b[0m\u001b[1;33m(\u001b[0m\u001b[0mtransact_transaction\u001b[0m\u001b[1;33m)\u001b[0m\u001b[1;33m\u001b[0m\u001b[0m\n\u001b[0m\u001b[0;32m   1342\u001b[0m     \u001b[1;32mreturn\u001b[0m \u001b[0mtxn_hash\u001b[0m\u001b[1;33m\u001b[0m\u001b[0m\n\u001b[0;32m   1343\u001b[0m \u001b[1;33m\u001b[0m\u001b[0m\n",
      "\u001b[1;32mC:\\ProgramData\\Anaconda3\\lib\\site-packages\\web3\\eth.py\u001b[0m in \u001b[0;36msendTransaction\u001b[1;34m(self, transaction)\u001b[0m\n\u001b[0;32m    237\u001b[0m                 \u001b[0mtransaction\u001b[0m\u001b[1;33m,\u001b[0m\u001b[1;33m\u001b[0m\u001b[0m\n\u001b[0;32m    238\u001b[0m                 \u001b[1;34m'gas'\u001b[0m\u001b[1;33m,\u001b[0m\u001b[1;33m\u001b[0m\u001b[0m\n\u001b[1;32m--> 239\u001b[1;33m                 \u001b[0mget_buffered_gas_estimate\u001b[0m\u001b[1;33m(\u001b[0m\u001b[0mself\u001b[0m\u001b[1;33m.\u001b[0m\u001b[0mweb3\u001b[0m\u001b[1;33m,\u001b[0m \u001b[0mtransaction\u001b[0m\u001b[1;33m)\u001b[0m\u001b[1;33m,\u001b[0m\u001b[1;33m\u001b[0m\u001b[0m\n\u001b[0m\u001b[0;32m    240\u001b[0m             )\n\u001b[0;32m    241\u001b[0m \u001b[1;33m\u001b[0m\u001b[0m\n",
      "\u001b[1;32mC:\\ProgramData\\Anaconda3\\lib\\site-packages\\web3\\utils\\transactions.py\u001b[0m in \u001b[0;36mget_buffered_gas_estimate\u001b[1;34m(web3, transaction, gas_buffer)\u001b[0m\n\u001b[0;32m     69\u001b[0m     \u001b[0mgas_estimate_transaction\u001b[0m \u001b[1;33m=\u001b[0m \u001b[0mdict\u001b[0m\u001b[1;33m(\u001b[0m\u001b[1;33m**\u001b[0m\u001b[0mtransaction\u001b[0m\u001b[1;33m)\u001b[0m\u001b[1;33m\u001b[0m\u001b[0m\n\u001b[0;32m     70\u001b[0m \u001b[1;33m\u001b[0m\u001b[0m\n\u001b[1;32m---> 71\u001b[1;33m     \u001b[0mgas_estimate\u001b[0m \u001b[1;33m=\u001b[0m \u001b[0mweb3\u001b[0m\u001b[1;33m.\u001b[0m\u001b[0meth\u001b[0m\u001b[1;33m.\u001b[0m\u001b[0mestimateGas\u001b[0m\u001b[1;33m(\u001b[0m\u001b[0mgas_estimate_transaction\u001b[0m\u001b[1;33m)\u001b[0m\u001b[1;33m\u001b[0m\u001b[0m\n\u001b[0m\u001b[0;32m     72\u001b[0m \u001b[1;33m\u001b[0m\u001b[0m\n\u001b[0;32m     73\u001b[0m     \u001b[0mgas_limit\u001b[0m \u001b[1;33m=\u001b[0m \u001b[0mget_block_gas_limit\u001b[0m\u001b[1;33m(\u001b[0m\u001b[0mweb3\u001b[0m\u001b[1;33m)\u001b[0m\u001b[1;33m\u001b[0m\u001b[0m\n",
      "\u001b[1;32mC:\\ProgramData\\Anaconda3\\lib\\site-packages\\web3\\eth.py\u001b[0m in \u001b[0;36mestimateGas\u001b[1;34m(self, transaction)\u001b[0m\n\u001b[0;32m    278\u001b[0m         return self.web3.manager.request_blocking(\n\u001b[0;32m    279\u001b[0m             \u001b[1;34m\"eth_estimateGas\"\u001b[0m\u001b[1;33m,\u001b[0m\u001b[1;33m\u001b[0m\u001b[0m\n\u001b[1;32m--> 280\u001b[1;33m             \u001b[1;33m[\u001b[0m\u001b[0mtransaction\u001b[0m\u001b[1;33m]\u001b[0m\u001b[1;33m,\u001b[0m\u001b[1;33m\u001b[0m\u001b[0m\n\u001b[0m\u001b[0;32m    281\u001b[0m         )\n\u001b[0;32m    282\u001b[0m \u001b[1;33m\u001b[0m\u001b[0m\n",
      "\u001b[1;32mC:\\ProgramData\\Anaconda3\\lib\\site-packages\\web3\\manager.py\u001b[0m in \u001b[0;36mrequest_blocking\u001b[1;34m(self, method, params)\u001b[0m\n\u001b[0;32m    104\u001b[0m \u001b[1;33m\u001b[0m\u001b[0m\n\u001b[0;32m    105\u001b[0m         \u001b[1;32mif\u001b[0m \u001b[1;34m\"error\"\u001b[0m \u001b[1;32min\u001b[0m \u001b[0mresponse\u001b[0m\u001b[1;33m:\u001b[0m\u001b[1;33m\u001b[0m\u001b[0m\n\u001b[1;32m--> 106\u001b[1;33m             \u001b[1;32mraise\u001b[0m \u001b[0mValueError\u001b[0m\u001b[1;33m(\u001b[0m\u001b[0mresponse\u001b[0m\u001b[1;33m[\u001b[0m\u001b[1;34m\"error\"\u001b[0m\u001b[1;33m]\u001b[0m\u001b[1;33m)\u001b[0m\u001b[1;33m\u001b[0m\u001b[0m\n\u001b[0m\u001b[0;32m    107\u001b[0m \u001b[1;33m\u001b[0m\u001b[0m\n\u001b[0;32m    108\u001b[0m         \u001b[1;32mreturn\u001b[0m \u001b[0mresponse\u001b[0m\u001b[1;33m[\u001b[0m\u001b[1;34m'result'\u001b[0m\u001b[1;33m]\u001b[0m\u001b[1;33m\u001b[0m\u001b[0m\n",
      "\u001b[1;31mValueError\u001b[0m: {'code': -32015, 'message': 'Transaction execution error.', 'data': 'Internal(\"Requires higher than upper limit of 52079720\")'}"
     ]
    }
   ],
   "source": [
    "#########DAUGHTER AUCTION########\n",
    "\n",
    "#set oli origin Address\n",
    "\n",
    "web3.personal.unlockAccount(coinbase, 'G7fht1A')\n",
    "Olidaughter_contract.transact({'from': coinbase}).setOliOrigin(Oliorigin_address)\n",
    "\n",
    "#set OLIcoin address\n",
    "web3.personal.unlockAccount(coinbase, 'G7fht1A')\n",
    "Olidaughter_contract.transact({'from': coinbase}).setOliCoin(Olicoin_address)\n",
    "\n",
    "\n",
    "#set DynamicGridFee address\n",
    "web3.personal.unlockAccount(coinbase, 'G7fht1A')\n",
    "Olidaughter_contract.transact({'from': coinbase}).setDynamicGridFee(DynamicGridFee_address)\n",
    "\n",
    "#set BilateralTrade address (fails!)\n",
    "web3.personal.unlockAccount(coinbase, 'G7fht1A')\n",
    "Olidaughter_contract.transact({'from': coinbase}).setBilateralTrading(Olibilateral_address)\n"
   ]
  },
  {
   "cell_type": "code",
   "execution_count": 19,
   "metadata": {},
   "outputs": [
    {
     "data": {
      "text/plain": [
       "HexBytes('0x92334d77633079a17b61669b061a927fea312f7d5029666e338376e7aa90cfcb')"
      ]
     },
     "execution_count": 19,
     "metadata": {},
     "output_type": "execute_result"
    }
   ],
   "source": [
    "#########Dynamic Grid Fee#######\n",
    "#set oli origin Address\n",
    "web3.personal.unlockAccount(coinbase, 'G7fht1A')\n",
    "DynamicGridFee_contract.transact({'from': coinbase}).setOliOrigin(Oliorigin_address)"
   ]
  },
  {
   "cell_type": "code",
   "execution_count": 20,
   "metadata": {},
   "outputs": [
    {
     "data": {
      "text/plain": [
       "HexBytes('0x2167daeb9ce991da0bc6b3227cacd9a202399245b4c4010f2360cc6e42e2700c')"
      ]
     },
     "execution_count": 20,
     "metadata": {},
     "output_type": "execute_result"
    }
   ],
   "source": [
    "###Set Min/Max Grid Fee###\n",
    "web3.personal.unlockAccount(coinbase, 'G7fht1A')\n",
    "DynamicGridFee_contract.transact({'from': coinbase}).set_minmaxgfee(account_21, [4,6,1,3])"
   ]
  },
  {
   "cell_type": "code",
   "execution_count": null,
   "metadata": {},
   "outputs": [],
   "source": [
    "###BILATERAL TRADE####\n",
    "\n",
    "#web3.personal.unlockAccount(account_5, 'olirocks')\n",
    "#Olibilateral_contract.transact({'from': account_5}).regStock(5, 5, 108000, 240)\n",
    "#time.sleep(30)\n",
    "\n",
    "#web3.personal.unlockAccount(account_6, 'olirocks')\n",
    "#Olibilateral_contract.transact({'from': account_6}).stockBidding(account_5, 7)\n",
    "#time.sleep(30)\n",
    "\n",
    "#web3.personal.unlockAccount(account_7, 'olirocks')\n",
    "#Olibilateral_contract.transact({'from': account_7}).stockBidding(account_5, 8)\n",
    "#time.sleep(30)\n",
    "\n",
    "#web3.personal.unlockAccount(account_8, 'olirocks')\n",
    "#Olibilateral_contract.transact({'from': account_8}).stockBidding(account_5, 9)\n",
    "#time.sleep(30)\n"
   ]
  },
  {
   "cell_type": "markdown",
   "metadata": {},
   "source": [
    "START THIS ANEW WHEN YOU WANT TO FEED THE SMART CONTRACTS WITH BIDS"
   ]
  },
  {
   "cell_type": "code",
   "execution_count": 21,
   "metadata": {
    "scrolled": false
   },
   "outputs": [
    {
     "ename": "ValueError",
     "evalue": "{'code': -32015, 'message': 'Transaction execution error.', 'data': 'Internal(\"Requires higher than upper limit of 51674350\")'}",
     "output_type": "error",
     "traceback": [
      "\u001b[1;31m---------------------------------------------------------------------------\u001b[0m",
      "\u001b[1;31mValueError\u001b[0m                                Traceback (most recent call last)",
      "\u001b[1;32m<ipython-input-21-437c426dd1ca>\u001b[0m in \u001b[0;36m<module>\u001b[1;34m()\u001b[0m\n\u001b[0;32m     20\u001b[0m     \u001b[0moliBoxLive\u001b[0m \u001b[1;33m=\u001b[0m \u001b[0mrandom\u001b[0m\u001b[1;33m.\u001b[0m\u001b[0mrandint\u001b[0m\u001b[1;33m(\u001b[0m\u001b[1;36m500\u001b[0m\u001b[1;33m,\u001b[0m\u001b[1;36m6250\u001b[0m\u001b[1;33m)\u001b[0m\u001b[1;33m;\u001b[0m\u001b[1;33m\u001b[0m\u001b[0m\n\u001b[0;32m     21\u001b[0m     \u001b[0mweb3\u001b[0m\u001b[1;33m.\u001b[0m\u001b[0mpersonal\u001b[0m\u001b[1;33m.\u001b[0m\u001b[0munlockAccount\u001b[0m\u001b[1;33m(\u001b[0m\u001b[0maccount_1\u001b[0m\u001b[1;33m,\u001b[0m \u001b[1;34m'olirocks'\u001b[0m\u001b[1;33m)\u001b[0m\u001b[1;33m\u001b[0m\u001b[0m\n\u001b[1;32m---> 22\u001b[1;33m     \u001b[0mOlidaughter_contract\u001b[0m\u001b[1;33m.\u001b[0m\u001b[0mfunctions\u001b[0m\u001b[1;33m.\u001b[0m\u001b[0mbid\u001b[0m\u001b[1;33m(\u001b[0m\u001b[0mrandom\u001b[0m\u001b[1;33m.\u001b[0m\u001b[0mrandint\u001b[0m\u001b[1;33m(\u001b[0m\u001b[1;36m500\u001b[0m\u001b[1;33m,\u001b[0m\u001b[1;36m6500\u001b[0m\u001b[1;33m)\u001b[0m\u001b[1;33m,\u001b[0m \u001b[1;36m3\u001b[0m\u001b[1;33m)\u001b[0m\u001b[1;33m.\u001b[0m\u001b[0mtransact\u001b[0m\u001b[1;33m(\u001b[0m\u001b[1;33m{\u001b[0m\u001b[1;34m'from'\u001b[0m\u001b[1;33m:\u001b[0m \u001b[0maccount_1\u001b[0m\u001b[1;33m}\u001b[0m\u001b[1;33m)\u001b[0m\u001b[1;33m\u001b[0m\u001b[0m\n\u001b[0m\u001b[0;32m     23\u001b[0m     \u001b[1;31m#Olidaughter_contract.transact({'from': account_1}).bid(oliBoxLive, 3)\u001b[0m\u001b[1;33m\u001b[0m\u001b[1;33m\u001b[0m\u001b[0m\n\u001b[0;32m     24\u001b[0m \u001b[1;33m\u001b[0m\u001b[0m\n",
      "\u001b[1;32mC:\\ProgramData\\Anaconda3\\lib\\site-packages\\web3\\contract.py\u001b[0m in \u001b[0;36mtransact\u001b[1;34m(self, transaction)\u001b[0m\n\u001b[0;32m   1062\u001b[0m                                                \u001b[0mtransact_transaction\u001b[0m\u001b[1;33m,\u001b[0m\u001b[1;33m\u001b[0m\u001b[0m\n\u001b[0;32m   1063\u001b[0m                                                \u001b[1;33m*\u001b[0m\u001b[0mself\u001b[0m\u001b[1;33m.\u001b[0m\u001b[0margs\u001b[0m\u001b[1;33m,\u001b[0m\u001b[1;33m\u001b[0m\u001b[0m\n\u001b[1;32m-> 1064\u001b[1;33m                                                **self.kwargs)\n\u001b[0m\u001b[0;32m   1065\u001b[0m \u001b[1;33m\u001b[0m\u001b[0m\n\u001b[0;32m   1066\u001b[0m     \u001b[1;32mdef\u001b[0m \u001b[0mestimateGas\u001b[0m\u001b[1;33m(\u001b[0m\u001b[0mself\u001b[0m\u001b[1;33m,\u001b[0m \u001b[0mtransaction\u001b[0m\u001b[1;33m=\u001b[0m\u001b[1;32mNone\u001b[0m\u001b[1;33m)\u001b[0m\u001b[1;33m:\u001b[0m\u001b[1;33m\u001b[0m\u001b[0m\n",
      "\u001b[1;32mC:\\ProgramData\\Anaconda3\\lib\\site-packages\\web3\\contract.py\u001b[0m in \u001b[0;36mtransact_with_contract_function\u001b[1;34m(abi, address, web3, function_name, transaction, *args, **kwargs)\u001b[0m\n\u001b[0;32m   1339\u001b[0m     )\n\u001b[0;32m   1340\u001b[0m \u001b[1;33m\u001b[0m\u001b[0m\n\u001b[1;32m-> 1341\u001b[1;33m     \u001b[0mtxn_hash\u001b[0m \u001b[1;33m=\u001b[0m \u001b[0mweb3\u001b[0m\u001b[1;33m.\u001b[0m\u001b[0meth\u001b[0m\u001b[1;33m.\u001b[0m\u001b[0msendTransaction\u001b[0m\u001b[1;33m(\u001b[0m\u001b[0mtransact_transaction\u001b[0m\u001b[1;33m)\u001b[0m\u001b[1;33m\u001b[0m\u001b[0m\n\u001b[0m\u001b[0;32m   1342\u001b[0m     \u001b[1;32mreturn\u001b[0m \u001b[0mtxn_hash\u001b[0m\u001b[1;33m\u001b[0m\u001b[0m\n\u001b[0;32m   1343\u001b[0m \u001b[1;33m\u001b[0m\u001b[0m\n",
      "\u001b[1;32mC:\\ProgramData\\Anaconda3\\lib\\site-packages\\web3\\eth.py\u001b[0m in \u001b[0;36msendTransaction\u001b[1;34m(self, transaction)\u001b[0m\n\u001b[0;32m    237\u001b[0m                 \u001b[0mtransaction\u001b[0m\u001b[1;33m,\u001b[0m\u001b[1;33m\u001b[0m\u001b[0m\n\u001b[0;32m    238\u001b[0m                 \u001b[1;34m'gas'\u001b[0m\u001b[1;33m,\u001b[0m\u001b[1;33m\u001b[0m\u001b[0m\n\u001b[1;32m--> 239\u001b[1;33m                 \u001b[0mget_buffered_gas_estimate\u001b[0m\u001b[1;33m(\u001b[0m\u001b[0mself\u001b[0m\u001b[1;33m.\u001b[0m\u001b[0mweb3\u001b[0m\u001b[1;33m,\u001b[0m \u001b[0mtransaction\u001b[0m\u001b[1;33m)\u001b[0m\u001b[1;33m,\u001b[0m\u001b[1;33m\u001b[0m\u001b[0m\n\u001b[0m\u001b[0;32m    240\u001b[0m             )\n\u001b[0;32m    241\u001b[0m \u001b[1;33m\u001b[0m\u001b[0m\n",
      "\u001b[1;32mC:\\ProgramData\\Anaconda3\\lib\\site-packages\\web3\\utils\\transactions.py\u001b[0m in \u001b[0;36mget_buffered_gas_estimate\u001b[1;34m(web3, transaction, gas_buffer)\u001b[0m\n\u001b[0;32m     69\u001b[0m     \u001b[0mgas_estimate_transaction\u001b[0m \u001b[1;33m=\u001b[0m \u001b[0mdict\u001b[0m\u001b[1;33m(\u001b[0m\u001b[1;33m**\u001b[0m\u001b[0mtransaction\u001b[0m\u001b[1;33m)\u001b[0m\u001b[1;33m\u001b[0m\u001b[0m\n\u001b[0;32m     70\u001b[0m \u001b[1;33m\u001b[0m\u001b[0m\n\u001b[1;32m---> 71\u001b[1;33m     \u001b[0mgas_estimate\u001b[0m \u001b[1;33m=\u001b[0m \u001b[0mweb3\u001b[0m\u001b[1;33m.\u001b[0m\u001b[0meth\u001b[0m\u001b[1;33m.\u001b[0m\u001b[0mestimateGas\u001b[0m\u001b[1;33m(\u001b[0m\u001b[0mgas_estimate_transaction\u001b[0m\u001b[1;33m)\u001b[0m\u001b[1;33m\u001b[0m\u001b[0m\n\u001b[0m\u001b[0;32m     72\u001b[0m \u001b[1;33m\u001b[0m\u001b[0m\n\u001b[0;32m     73\u001b[0m     \u001b[0mgas_limit\u001b[0m \u001b[1;33m=\u001b[0m \u001b[0mget_block_gas_limit\u001b[0m\u001b[1;33m(\u001b[0m\u001b[0mweb3\u001b[0m\u001b[1;33m)\u001b[0m\u001b[1;33m\u001b[0m\u001b[0m\n",
      "\u001b[1;32mC:\\ProgramData\\Anaconda3\\lib\\site-packages\\web3\\eth.py\u001b[0m in \u001b[0;36mestimateGas\u001b[1;34m(self, transaction)\u001b[0m\n\u001b[0;32m    278\u001b[0m         return self.web3.manager.request_blocking(\n\u001b[0;32m    279\u001b[0m             \u001b[1;34m\"eth_estimateGas\"\u001b[0m\u001b[1;33m,\u001b[0m\u001b[1;33m\u001b[0m\u001b[0m\n\u001b[1;32m--> 280\u001b[1;33m             \u001b[1;33m[\u001b[0m\u001b[0mtransaction\u001b[0m\u001b[1;33m]\u001b[0m\u001b[1;33m,\u001b[0m\u001b[1;33m\u001b[0m\u001b[0m\n\u001b[0m\u001b[0;32m    281\u001b[0m         )\n\u001b[0;32m    282\u001b[0m \u001b[1;33m\u001b[0m\u001b[0m\n",
      "\u001b[1;32mC:\\ProgramData\\Anaconda3\\lib\\site-packages\\web3\\manager.py\u001b[0m in \u001b[0;36mrequest_blocking\u001b[1;34m(self, method, params)\u001b[0m\n\u001b[0;32m    104\u001b[0m \u001b[1;33m\u001b[0m\u001b[0m\n\u001b[0;32m    105\u001b[0m         \u001b[1;32mif\u001b[0m \u001b[1;34m\"error\"\u001b[0m \u001b[1;32min\u001b[0m \u001b[0mresponse\u001b[0m\u001b[1;33m:\u001b[0m\u001b[1;33m\u001b[0m\u001b[0m\n\u001b[1;32m--> 106\u001b[1;33m             \u001b[1;32mraise\u001b[0m \u001b[0mValueError\u001b[0m\u001b[1;33m(\u001b[0m\u001b[0mresponse\u001b[0m\u001b[1;33m[\u001b[0m\u001b[1;34m\"error\"\u001b[0m\u001b[1;33m]\u001b[0m\u001b[1;33m)\u001b[0m\u001b[1;33m\u001b[0m\u001b[0m\n\u001b[0m\u001b[0;32m    107\u001b[0m \u001b[1;33m\u001b[0m\u001b[0m\n\u001b[0;32m    108\u001b[0m         \u001b[1;32mreturn\u001b[0m \u001b[0mresponse\u001b[0m\u001b[1;33m[\u001b[0m\u001b[1;34m'result'\u001b[0m\u001b[1;33m]\u001b[0m\u001b[1;33m\u001b[0m\u001b[0m\n",
      "\u001b[1;31mValueError\u001b[0m: {'code': -32015, 'message': 'Transaction execution error.', 'data': 'Internal(\"Requires higher than upper limit of 51674350\")'}"
     ]
    }
   ],
   "source": [
    "#OLIDaughterAuction1 bid\n",
    "\n",
    "\n",
    "oliBoxLive = random.randint(500,6250); \n",
    "\n",
    "\n",
    "run = 1\n",
    "while run == 1:\n",
    "    \n",
    "    \n",
    "    #distribute eth from coinbase to the other accounts\n",
    "    #web3.personal.unlockAccount(web3.eth.coinbase, 'olirocks')\n",
    "    #transferAmount = round((web3.eth.getBalance(web3.eth.coinbase) * 0.01))\n",
    "    #for i in range(1,11):\n",
    "    #    web3.personal.unlockAccount(web3.eth.coinbase, 'olirocks')\n",
    "    #    web3.eth.sendTransaction({'to': web3.eth.accounts[i], 'from': web3.eth.coinbase, 'value': transferAmount})\n",
    "    \n",
    "    \n",
    "    \n",
    "    oliBoxLive = random.randint(500,6250);\n",
    "    web3.personal.unlockAccount(account_1, 'olirocks')\n",
    "    Olidaughter_contract.functions.bid(random.randint(500,6500), 3).transact({'from': account_1})\n",
    "    #Olidaughter_contract.transact({'from': account_1}).bid(oliBoxLive, 3)\n",
    "\n",
    "    web3.personal.unlockAccount(account_2, 'olirocks')\n",
    "    Olidaughter_contract.functions.bid(random.randint(1000,1050), 10).transact({'from': account_2})\n",
    "    #Olidaughter_contract.transact({'from': account_2}).bid(random.randint(1000,1050), 10)\n",
    "\n",
    "    web3.personal.unlockAccount(account_3, 'olirocks')\n",
    "    Olidaughter_contract.functions.bid(random.randint(500,550), 13).transact({'from': account_3})\n",
    "    #Olidaughter_contract.transact({'from': account_3}).bid(random.randint(500,550), 13)\n",
    "\n",
    "    web3.personal.unlockAccount(account_4, 'olirocks')\n",
    "    Olidaughter_contract.functions.bid(random.randint(2000,2050), 14).transact({'from': account_4})\n",
    "    #Olidaughter_contract.transact({'from': account_4}).bid(random.randint(2000,2050), 14)\n",
    "\n",
    "    web3.personal.unlockAccount(account_5, 'olirocks')\n",
    "    Olidaughter_contract.functions.bid(random.randint(1550,1600), 15).transact({'from': account_5})\n",
    "    #Olidaughter_contract.transact({'from': account_5}).bid(random.randint(1550,1600), 15)\n",
    "\n",
    "    #    time.sleep(15)\n",
    "\n",
    "    web3.personal.unlockAccount(account_6, 'olirocks')\n",
    "    Olidaughter_contract.functions.bid(random.randint(1000,1050), 9).transact({'from': account_6})\n",
    "    #Olidaughter_contract.transact({'from': account_6}).bid(random.randint(1000,1050), 9)\n",
    "\n",
    "    web3.personal.unlockAccount(account_7, 'olirocks')\n",
    "    Olidaughter_contract.functions.bid(random.randint(1500,1550), 10).transact({'from': account_7})\n",
    "    #Olidaughter_contract.transact({'from': account_7}).bid(random.randint(1500,1550), 10)\n",
    "\n",
    "    web3.personal.unlockAccount(account_8, 'olirocks')\n",
    "    Olidaughter_contract.functions.bid(random.randint(2000,2550), 12).transact({'from': account_8})\n",
    "    #Olidaughter_contract.transact({'from': account_8}).bid(random.randint(2000,2550), 12)\n",
    "\n",
    "    web3.personal.unlockAccount(account_9, 'olirocks')\n",
    "    Olidaughter_contract.functions.bid(random.randint(1000,1050), 13).transact({'from': account_9})\n",
    "    #Olidaughter_contract.transact({'from': account_9}).bid(random.randint(1000,1050), 13)\n",
    "\n",
    "    web3.personal.unlockAccount(account_10, 'olirocks')\n",
    "    Olidaughter_contract.functions.bid(random.randint(3000,3050), 14).transact({'from': account_10})\n",
    "    #Olidaughter_contract.transact({'from': account_10}).bid(random.randint(3000,3050), 14)\n",
    "\n",
    "    time.sleep(30)\n",
    "    \n",
    "    #MCP\n",
    "    web3.personal.unlockAccount(coinbase, 'G7fht1A')\n",
    "    Olidaughter_contract.functions.breakEven().transact({'from': coinbase})\n",
    "    #Olidaughter_contract.transact({'from': coinbase}).breakEven()    \n",
    "    time.sleep(30)\n",
    "    web3.personal.unlockAccount(coinbase, 'G7fht1A')\n",
    "    Olidaughter_contract.functions.resett().transact({'from': coinbase})\n",
    "    #Olidaughter_contract.transact({'from': coinbase}).resett()    \n",
    "    time.sleep(300)\n",
    "\n"
   ]
  },
  {
   "cell_type": "code",
   "execution_count": null,
   "metadata": {},
   "outputs": [],
   "source": [
    "#distribute eth from coinbase to the other accounts\n",
    "web3.personal.unlockAccount(web3.eth.coinbase, 'olirocks')\n",
    "transferAmount = round((web3.eth.getBalance(web3.eth.coinbase) * 0.01))\n",
    "for i in range(1,11):\n",
    "    web3.personal.unlockAccount(web3.eth.coinbase, 'olirocks')\n",
    "    web3.eth.sendTransaction({'to': web3.eth.accounts[i], 'from': web3.eth.coinbase, 'value': transferAmount})"
   ]
  },
  {
   "cell_type": "code",
   "execution_count": null,
   "metadata": {},
   "outputs": [],
   "source": [
    "web3.personal.unlockAccount(account_0, 'olirocks')"
   ]
  },
  {
   "cell_type": "code",
   "execution_count": null,
   "metadata": {},
   "outputs": [],
   "source": [
    "web3.fromWei(web3.eth.getBalance(coinbase), 'ether')"
   ]
  },
  {
   "cell_type": "code",
   "execution_count": null,
   "metadata": {},
   "outputs": [],
   "source": [
    "web3.fromWei(web3.eth.getBalance(web3.eth.accounts[2]), 'ether')"
   ]
  },
  {
   "cell_type": "code",
   "execution_count": null,
   "metadata": {},
   "outputs": [],
   "source": [
    "web3.eth.accounts"
   ]
  },
  {
   "cell_type": "code",
   "execution_count": 5,
   "metadata": {},
   "outputs": [
    {
     "data": {
      "text/plain": [
       "'0x36e4182C362E1F6c0E517b3c6E77500ddCEE082e'"
      ]
     },
     "execution_count": 5,
     "metadata": {},
     "output_type": "execute_result"
    }
   ],
   "source": [
    "coinbase"
   ]
  },
  {
   "cell_type": "code",
   "execution_count": 46,
   "metadata": {},
   "outputs": [
    {
     "ename": "ValueError",
     "evalue": "{'code': -32015, 'message': 'Transaction execution error.', 'data': 'Internal(\"Requires higher than upper limit of 50084210\")'}",
     "output_type": "error",
     "traceback": [
      "\u001b[1;31m---------------------------------------------------------------------------\u001b[0m",
      "\u001b[1;31mValueError\u001b[0m                                Traceback (most recent call last)",
      "\u001b[1;32m<ipython-input-46-35846175e180>\u001b[0m in \u001b[0;36m<module>\u001b[1;34m()\u001b[0m\n\u001b[1;32m----> 1\u001b[1;33m \u001b[0mOlidaughter_contract\u001b[0m\u001b[1;33m.\u001b[0m\u001b[0mfunctions\u001b[0m\u001b[1;33m.\u001b[0m\u001b[0mbid\u001b[0m\u001b[1;33m(\u001b[0m\u001b[0mrandom\u001b[0m\u001b[1;33m.\u001b[0m\u001b[0mrandint\u001b[0m\u001b[1;33m(\u001b[0m\u001b[1;36m500\u001b[0m\u001b[1;33m,\u001b[0m\u001b[1;36m6500\u001b[0m\u001b[1;33m)\u001b[0m\u001b[1;33m,\u001b[0m \u001b[1;36m3\u001b[0m\u001b[1;33m)\u001b[0m\u001b[1;33m.\u001b[0m\u001b[0mestimateGas\u001b[0m\u001b[1;33m(\u001b[0m\u001b[1;33m{\u001b[0m\u001b[1;34m'from'\u001b[0m\u001b[1;33m:\u001b[0m \u001b[0maccount_1\u001b[0m\u001b[1;33m}\u001b[0m\u001b[1;33m)\u001b[0m\u001b[1;33m\u001b[0m\u001b[0m\n\u001b[0m",
      "\u001b[1;32mC:\\ProgramData\\Anaconda3\\lib\\site-packages\\web3\\contract.py\u001b[0m in \u001b[0;36mestimateGas\u001b[1;34m(self, transaction)\u001b[0m\n\u001b[0;32m   1097\u001b[0m                                          \u001b[0mestimate_gas_transaction\u001b[0m\u001b[1;33m,\u001b[0m\u001b[1;33m\u001b[0m\u001b[0m\n\u001b[0;32m   1098\u001b[0m                                          \u001b[1;33m*\u001b[0m\u001b[0mself\u001b[0m\u001b[1;33m.\u001b[0m\u001b[0margs\u001b[0m\u001b[1;33m,\u001b[0m\u001b[1;33m\u001b[0m\u001b[0m\n\u001b[1;32m-> 1099\u001b[1;33m                                          **self.kwargs)\n\u001b[0m\u001b[0;32m   1100\u001b[0m \u001b[1;33m\u001b[0m\u001b[0m\n\u001b[0;32m   1101\u001b[0m     \u001b[1;32mdef\u001b[0m \u001b[0mbuildTransaction\u001b[0m\u001b[1;33m(\u001b[0m\u001b[0mself\u001b[0m\u001b[1;33m,\u001b[0m \u001b[0mtransaction\u001b[0m\u001b[1;33m=\u001b[0m\u001b[1;32mNone\u001b[0m\u001b[1;33m)\u001b[0m\u001b[1;33m:\u001b[0m\u001b[1;33m\u001b[0m\u001b[0m\n",
      "\u001b[1;32mC:\\ProgramData\\Anaconda3\\lib\\site-packages\\web3\\contract.py\u001b[0m in \u001b[0;36mestimate_gas_for_function\u001b[1;34m(abi, address, web3, fn_identifier, transaction, *args, **kwargs)\u001b[0m\n\u001b[0;32m   1365\u001b[0m     )\n\u001b[0;32m   1366\u001b[0m \u001b[1;33m\u001b[0m\u001b[0m\n\u001b[1;32m-> 1367\u001b[1;33m     \u001b[0mgas_estimate\u001b[0m \u001b[1;33m=\u001b[0m \u001b[0mweb3\u001b[0m\u001b[1;33m.\u001b[0m\u001b[0meth\u001b[0m\u001b[1;33m.\u001b[0m\u001b[0mestimateGas\u001b[0m\u001b[1;33m(\u001b[0m\u001b[0mestimate_transaction\u001b[0m\u001b[1;33m)\u001b[0m\u001b[1;33m\u001b[0m\u001b[0m\n\u001b[0m\u001b[0;32m   1368\u001b[0m     \u001b[1;32mreturn\u001b[0m \u001b[0mgas_estimate\u001b[0m\u001b[1;33m\u001b[0m\u001b[0m\n\u001b[0;32m   1369\u001b[0m \u001b[1;33m\u001b[0m\u001b[0m\n",
      "\u001b[1;32mC:\\ProgramData\\Anaconda3\\lib\\site-packages\\web3\\eth.py\u001b[0m in \u001b[0;36mestimateGas\u001b[1;34m(self, transaction)\u001b[0m\n\u001b[0;32m    278\u001b[0m         return self.web3.manager.request_blocking(\n\u001b[0;32m    279\u001b[0m             \u001b[1;34m\"eth_estimateGas\"\u001b[0m\u001b[1;33m,\u001b[0m\u001b[1;33m\u001b[0m\u001b[0m\n\u001b[1;32m--> 280\u001b[1;33m             \u001b[1;33m[\u001b[0m\u001b[0mtransaction\u001b[0m\u001b[1;33m]\u001b[0m\u001b[1;33m,\u001b[0m\u001b[1;33m\u001b[0m\u001b[0m\n\u001b[0m\u001b[0;32m    281\u001b[0m         )\n\u001b[0;32m    282\u001b[0m \u001b[1;33m\u001b[0m\u001b[0m\n",
      "\u001b[1;32mC:\\ProgramData\\Anaconda3\\lib\\site-packages\\web3\\manager.py\u001b[0m in \u001b[0;36mrequest_blocking\u001b[1;34m(self, method, params)\u001b[0m\n\u001b[0;32m    104\u001b[0m \u001b[1;33m\u001b[0m\u001b[0m\n\u001b[0;32m    105\u001b[0m         \u001b[1;32mif\u001b[0m \u001b[1;34m\"error\"\u001b[0m \u001b[1;32min\u001b[0m \u001b[0mresponse\u001b[0m\u001b[1;33m:\u001b[0m\u001b[1;33m\u001b[0m\u001b[0m\n\u001b[1;32m--> 106\u001b[1;33m             \u001b[1;32mraise\u001b[0m \u001b[0mValueError\u001b[0m\u001b[1;33m(\u001b[0m\u001b[0mresponse\u001b[0m\u001b[1;33m[\u001b[0m\u001b[1;34m\"error\"\u001b[0m\u001b[1;33m]\u001b[0m\u001b[1;33m)\u001b[0m\u001b[1;33m\u001b[0m\u001b[0m\n\u001b[0m\u001b[0;32m    107\u001b[0m \u001b[1;33m\u001b[0m\u001b[0m\n\u001b[0;32m    108\u001b[0m         \u001b[1;32mreturn\u001b[0m \u001b[0mresponse\u001b[0m\u001b[1;33m[\u001b[0m\u001b[1;34m'result'\u001b[0m\u001b[1;33m]\u001b[0m\u001b[1;33m\u001b[0m\u001b[0m\n",
      "\u001b[1;31mValueError\u001b[0m: {'code': -32015, 'message': 'Transaction execution error.', 'data': 'Internal(\"Requires higher than upper limit of 50084210\")'}"
     ]
    }
   ],
   "source": [
    "Olidaughter_contract.functions.bid(random.randint(500,6500), 3).estimateGas({'from': account_1})"
   ]
  },
  {
   "cell_type": "code",
   "execution_count": 62,
   "metadata": {},
   "outputs": [
    {
     "data": {
      "text/plain": [
       "AttributeDict({'author': '0x36e4182c362e1f6c0e517b3c6e77500ddcee082e',\n",
       " 'difficulty': 340282366920938463463374607431768211449,\n",
       " 'extraData': HexBytes('0xde830200018f5061726974792d457468657265756d86312e32372e32827769'),\n",
       " 'gasLimit': 5027984,\n",
       " 'gasUsed': 0,\n",
       " 'hash': HexBytes('0xcc30983cf92b7884fda51c54037157f8f00bc1e2a62c66dfb510c4826beed39e'),\n",
       " 'logsBloom': HexBytes('0x00000000000000000000000000000000000000000000000000000000000000000000000000000000000000000000000000000000000000000000000000000000000000000000000000000000000000000000000000000000000000000000000000000000000000000000000000000000000000000000000000000000000000000000000000000000000000000000000000000000000000000000000000000000000000000000000000000000000000000000000000000000000000000000000000000000000000000000000000000000000000000000000000000000000000000000000000000000000000000000000000000000000000000000000000000000'),\n",
       " 'miner': '0x36e4182C362E1F6c0E517b3c6E77500ddCEE082e',\n",
       " 'number': 542,\n",
       " 'parentHash': HexBytes('0x1099ba98a950b4b7d7ed85e6448503355f6ab3e68563eb0f6b5730aaaa2d7efa'),\n",
       " 'receiptsRoot': HexBytes('0x56e81f171bcc55a6ff8345e692c0f86e5b48e01b996cadc001622fb5e363b421'),\n",
       " 'sealFields': ['0x841e7eabdc',\n",
       "  '0xb8410b527fb3f43d4df23669e69339bce57285d561910442fc509438d3c7479bb21d437a2064287d2aa4bfb9e1efd41ee0d43c615927ddfbae67c791ddeec236dd9400'],\n",
       " 'sha3Uncles': HexBytes('0x1dcc4de8dec75d7aab85b567b6ccd41ad312451b948a7413f0a142fd40d49347'),\n",
       " 'signature': '0b527fb3f43d4df23669e69339bce57285d561910442fc509438d3c7479bb21d437a2064287d2aa4bfb9e1efd41ee0d43c615927ddfbae67c791ddeec236dd9400',\n",
       " 'size': 587,\n",
       " 'stateRoot': HexBytes('0x54b260247798edaf0fd049b9df5af14294e4857aec590eb773d1c8688334bbff'),\n",
       " 'step': '511618012',\n",
       " 'timestamp': 1534854036,\n",
       " 'totalDifficulty': 184433042871148647197149037228017859121670,\n",
       " 'transactions': [],\n",
       " 'transactionsRoot': HexBytes('0x56e81f171bcc55a6ff8345e692c0f86e5b48e01b996cadc001622fb5e363b421'),\n",
       " 'uncles': []})"
      ]
     },
     "execution_count": 62,
     "metadata": {},
     "output_type": "execute_result"
    }
   ],
   "source": [
    "web3.eth.getBlock(\"latest\")\n"
   ]
  },
  {
   "cell_type": "code",
   "execution_count": null,
   "metadata": {},
   "outputs": [],
   "source": []
  }
 ],
 "metadata": {
  "kernelspec": {
   "display_name": "Python 3",
   "language": "python",
   "name": "python3"
  },
  "language_info": {
   "codemirror_mode": {
    "name": "ipython",
    "version": 3
   },
   "file_extension": ".py",
   "mimetype": "text/x-python",
   "name": "python",
   "nbconvert_exporter": "python",
   "pygments_lexer": "ipython3",
   "version": "3.6.4"
  }
 },
 "nbformat": 4,
 "nbformat_minor": 2
}
